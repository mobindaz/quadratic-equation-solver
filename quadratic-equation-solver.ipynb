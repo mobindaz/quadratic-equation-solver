{
 "cells": [
  {
   "cell_type": "code",
   "execution_count": 1,
   "id": "d03bb7cf",
   "metadata": {},
   "outputs": [
    {
     "name": "stdout",
     "output_type": "stream",
     "text": [
      "Enter the coefficients\n",
      "0.1 0.2 0.3 0.4\n",
      "The solution for x is approximately: -0.050132309748686425\n"
     ]
    }
   ],
   "source": [
    "\n",
    "import numpy as np\n",
    "print(\"Enter the coefficients\")\n",
    "a,b,c,d=map(float,input().split())\n",
    "\n",
    "# Initialize x with a random value\n",
    "x = np.random.rand()\n",
    "\n",
    "learning_rate = 0.01\n",
    "epochs = 100\n",
    "\n",
    "# Training  using SGD\n",
    "for epoch in range(epochs):\n",
    "    # Calculate the cubic equation value\n",
    "    equ_val = a * x**3 + b * x**2 + c * x + d\n",
    "\n",
    "    # Calculate w.r.t. x\n",
    "    gradient = 3 * a * x**2 + 2 * b * x + c\n",
    "\n",
    "    # Apply ReLU if -ve\n",
    "    if gradient < 0:\n",
    "        gradient = 0\n",
    "# Update x using SGD\n",
    "    x -= learning_rate * gradient\n",
    "\n",
    "# Print the result\n",
    "print(f\"The solution for x is approximately: {x}\")\n"
   ]
  },
  {
   "cell_type": "code",
   "execution_count": null,
   "id": "8037daf4",
   "metadata": {},
   "outputs": [],
   "source": []
  },
  {
   "cell_type": "code",
   "execution_count": null,
   "id": "16c67e8b",
   "metadata": {},
   "outputs": [],
   "source": []
  }
 ],
 "metadata": {
  "kernelspec": {
   "display_name": "Python 3 (ipykernel)",
   "language": "python",
   "name": "python3"
  },
  "language_info": {
   "codemirror_mode": {
    "name": "ipython",
    "version": 3
   },
   "file_extension": ".py",
   "mimetype": "text/x-python",
   "name": "python",
   "nbconvert_exporter": "python",
   "pygments_lexer": "ipython3",
   "version": "3.11.5"
  }
 },
 "nbformat": 4,
 "nbformat_minor": 5
}
